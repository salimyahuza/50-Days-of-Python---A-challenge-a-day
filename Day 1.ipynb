{
 "cells": [
  {
   "cell_type": "code",
   "execution_count": null,
   "id": "afa965f7-f36e-4101-af8a-825db4b478b0",
   "metadata": {},
   "outputs": [],
   "source": [
    "import math\n",
    "\n",
    "def divide_or_square(number):\n",
    "    if number % 5 == 0:\n",
    "        return round(math.sqrt(number), 2)\n",
    "    else:\n",
    "        return number % 5\n",
    "\n",
    "# Example usage\n",
    "result = divide_or_square(10)\n",
    "print(result)  # Output: 3.16\n",
    "\n",
    "result = divide_or_square(7)\n",
    "print(result)  # Output: 2\n"
   ]
  }
 ],
 "metadata": {
  "kernelspec": {
   "display_name": "Python 3 (ipykernel)",
   "language": "python",
   "name": "python3"
  },
  "language_info": {
   "codemirror_mode": {
    "name": "ipython",
    "version": 3
   },
   "file_extension": ".py",
   "mimetype": "text/x-python",
   "name": "python",
   "nbconvert_exporter": "python",
   "pygments_lexer": "ipython3",
   "version": "3.12.4"
  }
 },
 "nbformat": 4,
 "nbformat_minor": 5
}
